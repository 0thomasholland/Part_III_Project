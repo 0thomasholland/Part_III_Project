{
 "cells": [
  {
   "cell_type": "markdown",
   "id": "7966d903",
   "metadata": {
    "lines_to_next_cell": 2
   },
   "source": []
  },
  {
   "cell_type": "code",
   "execution_count": null,
   "id": "c51f1452",
   "metadata": {},
   "outputs": [],
   "source": [
    "import sys\n",
    "\n",
    "sys.path.insert(0, \"/Users/th/Developer/PtIII/PtIII\")"
   ]
  },
  {
   "cell_type": "code",
   "execution_count": null,
   "id": "62cd66dd",
   "metadata": {},
   "outputs": [],
   "source": [
    "import cartopy.crs as ccrs\n",
    "import matplotlib.pyplot as plt\n",
    "import numpy as np\n",
    "import pyslfp as sl"
   ]
  },
  {
   "cell_type": "code",
   "execution_count": null,
   "id": "ef8d50c9",
   "metadata": {},
   "outputs": [],
   "source": [
    "## import my code\n",
    "from Part_III_Project import SeaSurfaceFingerPrint"
   ]
  },
  {
   "cell_type": "markdown",
   "id": "4bab74a9",
   "metadata": {},
   "source": [
    "# Setting up the load and model\n",
    "\n",
    "Taken from Tutorial 2 in pyslfp"
   ]
  },
  {
   "cell_type": "code",
   "execution_count": null,
   "id": "cdd9dc3b",
   "metadata": {},
   "outputs": [],
   "source": [
    "# 1. Initialise the fingerprint model\n",
    "fp = sl.FingerPrint(lmax=256)\n",
    "\n",
    "# 2. Set the background state to the present day\n",
    "fp.set_state_from_ice_ng(version=sl.IceModel.ICE7G, date=0.0)"
   ]
  },
  {
   "cell_type": "code",
   "execution_count": null,
   "id": "b3091961",
   "metadata": {},
   "outputs": [],
   "source": [
    "# Define the parameters for a disk load over Southern Greenland\n",
    "lat_greenland, lon_greenland = 65.0, -45.0\n",
    "radius_deg = 5.0\n",
    "thickness_change_meters = -100.0\n",
    "\n",
    "# Create a grid representing the change in ice thickness\n",
    "ice_thickness_change = fp.disk_load(\n",
    "    delta=radius_deg,\n",
    "    latitude=lat_greenland,\n",
    "    longitude=lon_greenland,\n",
    "    amplitude=thickness_change_meters,\n",
    ")\n",
    "\n",
    "# Convert the ice thickness change into a surface mass load (in kg/m^2)\n",
    "direct_load = fp.direct_load_from_ice_thickness_change(ice_thickness_change)"
   ]
  },
  {
   "cell_type": "code",
   "execution_count": null,
   "id": "44b6c801",
   "metadata": {},
   "outputs": [],
   "source": [
    "fig, ax, im = sl.plot(direct_load, coasts=True)\n",
    "ax.set_title(\"Surface Mass Load from Greenland Melt\")\n",
    "fig.colorbar(im, ax=ax, label=\"Mass Change (kg/m$^2$)\")\n",
    "plt.show()"
   ]
  },
  {
   "cell_type": "markdown",
   "id": "8dec8de3",
   "metadata": {},
   "source": [
    "Getting the outputs:"
   ]
  },
  {
   "cell_type": "code",
   "execution_count": null,
   "id": "f1533ce9",
   "metadata": {},
   "outputs": [],
   "source": [
    "sea_level_change, displacement, gravity_potential_change, angular_velocity_change = fp(\n",
    "    direct_load=direct_load\n",
    ")"
   ]
  },
  {
   "cell_type": "markdown",
   "id": "fe1afc95",
   "metadata": {},
   "source": [
    "Sea Level Change"
   ]
  },
  {
   "cell_type": "code",
   "execution_count": null,
   "id": "09588c17",
   "metadata": {},
   "outputs": [],
   "source": [
    "fig, ax, im = sl.plot(\n",
    "    sea_level_change * fp.ocean_projection(),\n",
    "    coasts=True,\n",
    "    symmetric=False,\n",
    ")\n",
    "ax.set_title(\"Sea Level Fingerprint\")\n",
    "fig.colorbar(im, ax=ax, label=\"Sea Level Change (m)\")\n",
    "plt.show()"
   ]
  },
  {
   "cell_type": "markdown",
   "id": "af2d8653",
   "metadata": {},
   "source": [
    "## Conversion of sea level change into sea surface change\n",
    "\n",
    "Currently ignore dynamics and centrifugal contribution (TKTK add in latter)"
   ]
  },
  {
   "cell_type": "code",
   "execution_count": null,
   "id": "dce151e1",
   "metadata": {},
   "outputs": [],
   "source": [
    "# 1. Initialise the fingerprint model\n",
    "fp_d = SeaSurfaceFingerPrint(lmax=256)\n",
    "\n",
    "# 2. Set the background state to the present day\n",
    "fp_d.set_state_from_ice_ng(version=sl.IceModel.ICE7G, date=0.0)\n",
    "\n",
    "# Define the parameters for a disk load over Southern Greenland\n",
    "lat_greenland, lon_greenland = 65.0, -45.0\n",
    "radius_deg = 5.0\n",
    "thickness_change_meters = -100.0\n",
    "\n",
    "# Create a grid representing the change in ice thickness\n",
    "ice_thickness_change = fp_d.disk_load(\n",
    "    delta=radius_deg,\n",
    "    latitude=lat_greenland,\n",
    "    longitude=lon_greenland,\n",
    "    amplitude=thickness_change_meters,\n",
    ")"
   ]
  },
  {
   "cell_type": "code",
   "execution_count": null,
   "id": "0a2eb68b",
   "metadata": {},
   "outputs": [],
   "source": [
    "# Convert the ice thickness change into a surface mass load (in kg/m^2)\n",
    "direct_load = fp_d.direct_load_from_ice_thickness_change(ice_thickness_change)\n",
    "\n",
    "sea_surface_height_change, _, _, _ = fp_d(direct_load=direct_load)"
   ]
  },
  {
   "cell_type": "code",
   "execution_count": null,
   "id": "de1efc01",
   "metadata": {},
   "outputs": [],
   "source": [
    "# Create figure with subplots\n",
    "fig = plt.figure(figsize=(16, 6))\n",
    "projection = ccrs.Robinson()\n",
    "ax1 = fig.add_subplot(2, 1, 1, projection=projection)\n",
    "ax2 = fig.add_subplot(2, 1, 2, projection=projection)\n",
    "\n",
    "# Prepare data\n",
    "data1 = sea_level_change * fp.ocean_projection()\n",
    "data2 = sea_surface_height_change * fp_d.ocean_projection()\n",
    "\n",
    "# Calculate common color limits across both datasets\n",
    "vmin = -1\n",
    "vmax = 0.3\n",
    "\n",
    "# Or for symmetric color scale around zero:\n",
    "# vmax = max(abs(np.nanmin(data1.data)), abs(np.nanmax(data1.data)),\n",
    "#            abs(np.nanmin(data2.data)), abs(np.nanmax(data2.data)))\n",
    "# vmin = -vmax\n",
    "\n",
    "# Plot data 1\n",
    "lons1 = data1.lons()\n",
    "lats1 = data1.lats()\n",
    "im1 = ax1.pcolormesh(\n",
    "    lons1,\n",
    "    lats1,\n",
    "    data1.data,\n",
    "    transform=ccrs.PlateCarree(),\n",
    "    cmap=\"turbo\",\n",
    "    vmin=vmin,\n",
    "    vmax=vmax,\n",
    ")\n",
    "ax1.coastlines()\n",
    "ax1.set_title(\"Sea Level Change\")\n",
    "fig.colorbar(im1, ax=ax1, label=\"Sea Level Change (m)\", shrink=0.8)\n",
    "\n",
    "# Plot data 2\n",
    "lons2 = data2.lons()\n",
    "lats2 = data2.lats()\n",
    "im2 = ax2.pcolormesh(\n",
    "    lons2,\n",
    "    lats2,\n",
    "    data2.data,\n",
    "    transform=ccrs.PlateCarree(),\n",
    "    cmap=\"turbo\",\n",
    "    vmin=vmin,\n",
    "    vmax=vmax,\n",
    ")\n",
    "ax2.coastlines()\n",
    "ax2.set_title(\"Sea Surface Height Change (direct)\")\n",
    "fig.colorbar(im2, ax=ax2, label=\"Sea Surface Height Change (m)\", shrink=0.8)\n",
    "\n",
    "plt.tight_layout()\n",
    "plt.show()\n",
    "\n",
    "print(\"Max Change: \", max(np.nanmax(data1.data), np.nanmax(data2.data)))\n",
    "print(\"Min Change: \", min(np.nanmin(data1.data), np.nanmin(data2.data)))"
   ]
  }
 ],
 "metadata": {
  "jupytext": {
   "cell_metadata_filter": "-all",
   "main_language": "python",
   "notebook_metadata_filter": "-all"
  }
 },
 "nbformat": 4,
 "nbformat_minor": 5
}
