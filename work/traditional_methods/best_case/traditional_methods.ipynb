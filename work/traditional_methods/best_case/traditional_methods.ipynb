{
 "cells": [
  {
   "cell_type": "markdown",
   "id": "b0220ba2",
   "metadata": {},
   "source": [
    "# Calculating error in sea surface height for major ice sheets at different satellite data availability levels"
   ]
  },
  {
   "cell_type": "code",
   "execution_count": null,
   "id": "7d9459ff",
   "metadata": {},
   "outputs": [],
   "source": [
    "import numpy as np\n",
    "import pandas as pd\n",
    "from matplotlib import pyplot as plt\n",
    "from pyslfp import FingerPrint, IceModel\n",
    "from joblib import Parallel, delayed\n",
    "\n",
    "from Part_III_Project import sea_surface_height_change"
   ]
  },
  {
   "cell_type": "markdown",
   "id": "65133087",
   "metadata": {},
   "source": [
    "Set up latitude range:"
   ]
  },
  {
   "cell_type": "code",
   "execution_count": null,
   "id": "086b9df9",
   "metadata": {},
   "outputs": [],
   "source": [
    "latitude_max = np.linspace(1, 90, 1000)\n",
    "latitude_min = -latitude_max"
   ]
  },
  {
   "cell_type": "markdown",
   "id": "3a65dc9f",
   "metadata": {},
   "source": [
    "Set up ice sheet melts:"
   ]
  },
  {
   "cell_type": "code",
   "execution_count": null,
   "id": "cf4c283e",
   "metadata": {},
   "outputs": [],
   "source": [
    "fp = FingerPrint()\n",
    "fp.set_state_from_ice_ng(version=IceModel.ICE7G, date=0.0)\n",
    "\n",
    "error_output = pd.DataFrame(\n",
    "    {\n",
    "        \"latitude_min\": latitude_min,\n",
    "        \"latitude_max\": latitude_max,\n",
    "        \"greenland_error\": np.zeros_like(latitude_min),\n",
    "        \"west_antarctic_error\": np.zeros_like(latitude_min),\n",
    "        \"east_antarctic_error\": np.zeros_like(latitude_min),\n",
    "    }\n",
    ")\n",
    "\n",
    "# Define ice sheet configurations\n",
    "ice_sheets = {\n",
    "    \"greenland\": {\"load_func\": fp.greenland_load, \"error_col\": \"greenland_error\"},\n",
    "    \"west_antarctic\": {\n",
    "        \"load_func\": fp.west_antarctic_load,\n",
    "        \"error_col\": \"west_antarctic_error\",\n",
    "    },\n",
    "    \"east_antarctic\": {\n",
    "        \"load_func\": fp.east_antarctic_load,\n",
    "        \"error_col\": \"east_antarctic_error\",\n",
    "    },\n",
    "}"
   ]
  },
  {
   "cell_type": "markdown",
   "id": "1765f8c7",
   "metadata": {},
   "source": [
    "Calculates the error in sea surface height change estimates for different combinations of satellite data availability for ice sheet melts in Greenland, West Antarctica, and East Antarctica\n",
    "\n",
    "Non-parallel version:"
   ]
  },
  {
   "cell_type": "code",
   "execution_count": null,
   "id": "c021ba17",
   "metadata": {},
   "outputs": [],
   "source": [
    "for ice_sheet_name, config in ice_sheets.items():\n",
    "    # Get the direct load for this ice sheet\n",
    "    direct_load = config[\"load_func\"]()\n",
    "\n",
    "    # Calculate sea level changes\n",
    "    (\n",
    "        sea_level_change,\n",
    "        displacement,\n",
    "        gravitational_potential_change,\n",
    "        angular_velocity_change,\n",
    "    ) = fp(direct_load=direct_load)\n",
    "\n",
    "    sea_surface_height_change_result = sea_surface_height_change(\n",
    "        fp, sea_level_change, displacement, angular_velocity_change\n",
    "    )\n",
    "\n",
    "    # Calculate mean sea level change once per ice sheet\n",
    "    mean_sea_level_change = fp.mean_sea_level_change(direct_load)\n",
    "\n",
    "    # Calculate errors for each latitude band\n",
    "    for i in range(len(latitude_min)):\n",
    "        ##### EXTRACT THIS HERE TO FUNCTION #####\n",
    "        altimetry_projection = fp.altimetry_projection(\n",
    "            latitude_min=latitude_min[i], latitude_max=latitude_max[i], value=0\n",
    "        )\n",
    "\n",
    "        altimetry_projection_integral = fp.integrate(altimetry_projection)\n",
    "        altimetry_weighting_function = (\n",
    "            altimetry_projection / altimetry_projection_integral\n",
    "        )\n",
    "\n",
    "        mean_sea_level_change_estimate = fp.integrate(\n",
    "            altimetry_weighting_function * sea_surface_height_change_result\n",
    "        )\n",
    "\n",
    "        # Calculate relative error\n",
    "        error = (\n",
    "            100\n",
    "            * np.abs(mean_sea_level_change_estimate - mean_sea_level_change)\n",
    "            / np.abs(mean_sea_level_change)\n",
    "        )\n",
    "\n",
    "        error_output.loc[i, config[\"error_col\"]] = error"
   ]
  },
  {
   "cell_type": "markdown",
   "id": "3e0508b2",
   "metadata": {},
   "source": [
    "Parallel version:"
   ]
  },
  {
   "cell_type": "code",
   "execution_count": null,
   "id": "59920fc4",
   "metadata": {},
   "outputs": [],
   "source": [
    "def process_ice_sheet(ice_sheet_name, config, latitude_min, latitude_max, fp):\n",
    "    \"\"\"Process a single ice sheet and return errors for all latitude bands.\"\"\"\n",
    "    # Get the direct load for this ice sheet\n",
    "    direct_load = config[\"load_func\"]()\n",
    "\n",
    "    # Calculate sea level changes\n",
    "    (\n",
    "        sea_level_change,\n",
    "        displacement,\n",
    "        gravitational_potential_change,\n",
    "        angular_velocity_change,\n",
    "    ) = fp(direct_load=direct_load)\n",
    "\n",
    "    sea_surface_height_change_result = sea_surface_height_change(\n",
    "        fp, sea_level_change, displacement, angular_velocity_change\n",
    "    )\n",
    "\n",
    "    # Calculate mean sea level change once per ice sheet\n",
    "    mean_sea_level_change = fp.mean_sea_level_change(direct_load)\n",
    "\n",
    "    # Calculate errors for each latitude band\n",
    "    errors = []\n",
    "    for i in range(len(latitude_min)):\n",
    "        altimetry_projection = fp.altimetry_projection(\n",
    "            latitude_min=latitude_min[i], latitude_max=latitude_max[i], value=0\n",
    "        )\n",
    "\n",
    "        altimetry_projection_integral = fp.integrate(altimetry_projection)\n",
    "        altimetry_weighting_function = (\n",
    "            altimetry_projection / altimetry_projection_integral\n",
    "        )\n",
    "\n",
    "        mean_sea_level_change_estimate = fp.integrate(\n",
    "            altimetry_weighting_function * sea_surface_height_change_result\n",
    "        )\n",
    "\n",
    "        # Calculate relative error\n",
    "        error = (\n",
    "            100\n",
    "            * np.abs(mean_sea_level_change_estimate - mean_sea_level_change)\n",
    "            / np.abs(mean_sea_level_change)\n",
    "        )\n",
    "\n",
    "        errors.append((i, error))\n",
    "\n",
    "    return ice_sheet_name, config[\"error_col\"], errors\n",
    "\n",
    "\n",
    "# Parallel execution\n",
    "results = Parallel(n_jobs=-1, verbose=5)(\n",
    "    delayed(process_ice_sheet)(ice_sheet_name, config, latitude_min, latitude_max, fp)\n",
    "    for ice_sheet_name, config in ice_sheets.items()\n",
    ")\n",
    "\n",
    "# Populate error_output with results\n",
    "for ice_sheet_name, error_col, errors in results:\n",
    "    for i, error in errors:\n",
    "        error_output.loc[i, error_col] = error"
   ]
  },
  {
   "cell_type": "code",
   "execution_count": null,
   "id": "131c2a20",
   "metadata": {},
   "outputs": [],
   "source": [
    "error_output.to_csv(\"traditional_method_errors.csv\", index=True)\n",
    "# error_output = pd.read_csv(\"traditional_method_errors.csv\", index=True)"
   ]
  },
  {
   "cell_type": "code",
   "execution_count": null,
   "id": "02c1f208",
   "metadata": {},
   "outputs": [],
   "source": [
    "plt.figure()\n",
    "plt.plot(\n",
    "    -error_output[\"latitude_min\"],\n",
    "    error_output[\"greenland_error\"],\n",
    "    label=\"Greenland\",\n",
    ")\n",
    "plt.plot(\n",
    "    -error_output[\"latitude_min\"],\n",
    "    error_output[\"west_antarctic_error\"],\n",
    "    label=\"West Antarctic\",\n",
    ")\n",
    "plt.plot(\n",
    "    -error_output[\"latitude_min\"],\n",
    "    error_output[\"east_antarctic_error\"],\n",
    "    label=\"East Antarctic\",\n",
    ")\n",
    "plt.xlabel(\"Latitude of satellite data (±degrees)\")\n",
    "plt.ylabel(\"Relative Error (%)\")\n",
    "plt.title(\"Relative Error in Mean Sea Level Change Estimate vs Satellite Latitude\")\n",
    "plt.legend()\n",
    "plt.show()"
   ]
  }
 ],
 "metadata": {
  "jupytext": {
   "cell_metadata_filter": "-all",
   "main_language": "python",
   "notebook_metadata_filter": "-all"
  }
 },
 "nbformat": 4,
 "nbformat_minor": 5
}
